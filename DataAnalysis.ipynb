{
 "cells": [
  {
   "cell_type": "code",
   "execution_count": 6,
   "metadata": {},
   "outputs": [],
   "source": [
    "import numpy as np\n",
    "import pandas as pd\n",
    "from sys import stdout"
   ]
  },
  {
   "cell_type": "code",
   "execution_count": 13,
   "metadata": {},
   "outputs": [
    {
     "data": {
      "text/html": [
       "<div>\n",
       "<style scoped>\n",
       "    .dataframe tbody tr th:only-of-type {\n",
       "        vertical-align: middle;\n",
       "    }\n",
       "\n",
       "    .dataframe tbody tr th {\n",
       "        vertical-align: top;\n",
       "    }\n",
       "\n",
       "    .dataframe thead th {\n",
       "        text-align: right;\n",
       "    }\n",
       "</style>\n",
       "<table border=\"1\" class=\"dataframe\">\n",
       "  <thead>\n",
       "    <tr style=\"text-align: right;\">\n",
       "      <th></th>\n",
       "      <th>Steam App ID</th>\n",
       "      <th>Game Name</th>\n",
       "      <th>Price</th>\n",
       "      <th>Release Date</th>\n",
       "      <th>Positive Review Percentage</th>\n",
       "      <th>Reviews Count</th>\n",
       "      <th>Developer</th>\n",
       "      <th>Publisher</th>\n",
       "      <th>Genre</th>\n",
       "      <th>Category</th>\n",
       "      <th>Tags</th>\n",
       "      <th>Peak User Yesterday</th>\n",
       "      <th>Number of Owners</th>\n",
       "      <th>Number of Players</th>\n",
       "      <th>Percentage of Actual Players in the Owners</th>\n",
       "    </tr>\n",
       "  </thead>\n",
       "  <tbody>\n",
       "    <tr>\n",
       "      <th>0</th>\n",
       "      <td>578620</td>\n",
       "      <td>GORN</td>\n",
       "      <td>19.99</td>\n",
       "      <td>10-Jul-17</td>\n",
       "      <td>96%</td>\n",
       "      <td>1</td>\n",
       "      <td>Free Lives</td>\n",
       "      <td>Devolver Digital</td>\n",
       "      <td>Violent, Gore, Action, Indie, Early Access</td>\n",
       "      <td>Single-player, SteamVR Collectibles</td>\n",
       "      <td>Early Access (51), Violent (46), VR (40), Acti...</td>\n",
       "      <td>91.0</td>\n",
       "      <td>70027 +/- 8141</td>\n",
       "      <td>63346 +/- 7743</td>\n",
       "      <td>90.46%</td>\n",
       "    </tr>\n",
       "    <tr>\n",
       "      <th>1</th>\n",
       "      <td>450540</td>\n",
       "      <td>Hot Dogs, Horseshoes &amp; Hand Grenades</td>\n",
       "      <td>19.99</td>\n",
       "      <td>5-Apr-16</td>\n",
       "      <td>97%</td>\n",
       "      <td>1</td>\n",
       "      <td>RUST LTD.</td>\n",
       "      <td>RUST LTD.</td>\n",
       "      <td>Action, Indie, Simulation, Early Access</td>\n",
       "      <td>Single-player, VR Support</td>\n",
       "      <td>Early Access (41), Simulation (37), Indie (34)...</td>\n",
       "      <td>95.0</td>\n",
       "      <td>79183 +/- 8657</td>\n",
       "      <td>76461 +/- 8507</td>\n",
       "      <td>96.56%</td>\n",
       "    </tr>\n",
       "  </tbody>\n",
       "</table>\n",
       "</div>"
      ],
      "text/plain": [
       "   Steam App ID                             Game Name  Price Release Date  \\\n",
       "0        578620                                  GORN  19.99    10-Jul-17   \n",
       "1        450540  Hot Dogs, Horseshoes & Hand Grenades  19.99     5-Apr-16   \n",
       "\n",
       "  Positive Review Percentage  Reviews Count   Developer         Publisher  \\\n",
       "0                        96%              1  Free Lives  Devolver Digital   \n",
       "1                        97%              1   RUST LTD.         RUST LTD.   \n",
       "\n",
       "                                        Genre  \\\n",
       "0  Violent, Gore, Action, Indie, Early Access   \n",
       "1     Action, Indie, Simulation, Early Access   \n",
       "\n",
       "                              Category  \\\n",
       "0  Single-player, SteamVR Collectibles   \n",
       "1            Single-player, VR Support   \n",
       "\n",
       "                                                Tags  Peak User Yesterday  \\\n",
       "0  Early Access (51), Violent (46), VR (40), Acti...                 91.0   \n",
       "1  Early Access (41), Simulation (37), Indie (34)...                 95.0   \n",
       "\n",
       "  Number of Owners Number of Players  \\\n",
       "0   70027 +/- 8141    63346 +/- 7743   \n",
       "1   79183 +/- 8657    76461 +/- 8507   \n",
       "\n",
       "  Percentage of Actual Players in the Owners  \n",
       "0                                     90.46%  \n",
       "1                                     96.56%  "
      ]
     },
     "execution_count": 13,
     "metadata": {},
     "output_type": "execute_result"
    }
   ],
   "source": [
    "# Load CSV into DataFrame\n",
    "df = pd.read_csv('./SteamVR-Data-2018-02-22-UTF8.csv', header=3, encoding='utf_8')\n",
    "df.head(2)"
   ]
  },
  {
   "cell_type": "code",
   "execution_count": 26,
   "metadata": {},
   "outputs": [
    {
     "ename": "ValueError",
     "evalue": "could not convert string to float: '0%'",
     "output_type": "error",
     "traceback": [
      "\u001b[1;31m---------------------------------------------------------------------------\u001b[0m",
      "\u001b[1;31mValueError\u001b[0m                                Traceback (most recent call last)",
      "\u001b[1;32m<ipython-input-26-73af21eedf31>\u001b[0m in \u001b[0;36m<module>\u001b[1;34m()\u001b[0m\n\u001b[1;32m----> 1\u001b[1;33m \u001b[0mdf\u001b[0m\u001b[1;33m[\u001b[0m\u001b[1;34m'Positive Review Percentage'\u001b[0m\u001b[1;33m]\u001b[0m\u001b[1;33m.\u001b[0m\u001b[0mvalues\u001b[0m\u001b[1;33m.\u001b[0m\u001b[0mastype\u001b[0m\u001b[1;33m(\u001b[0m\u001b[0mnp\u001b[0m\u001b[1;33m.\u001b[0m\u001b[0mfloat\u001b[0m\u001b[1;33m)\u001b[0m\u001b[1;33m\u001b[0m\u001b[0m\n\u001b[0m",
      "\u001b[1;31mValueError\u001b[0m: could not convert string to float: '0%'"
     ]
    }
   ],
   "source": [
    "df['Positive Review Percentage'].values.astype(np.float)"
   ]
  }
 ],
 "metadata": {
  "kernelspec": {
   "display_name": "Python 3",
   "language": "python",
   "name": "python3"
  },
  "language_info": {
   "codemirror_mode": {
    "name": "ipython",
    "version": 3
   },
   "file_extension": ".py",
   "mimetype": "text/x-python",
   "name": "python",
   "nbconvert_exporter": "python",
   "pygments_lexer": "ipython3",
   "version": "3.6.4"
  }
 },
 "nbformat": 4,
 "nbformat_minor": 2
}
